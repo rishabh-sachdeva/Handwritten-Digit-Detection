{
 "cells": [
  {
   "cell_type": "markdown",
   "metadata": {},
   "source": [
    "<b><font color = 'Blue'>Prediction Model to detect whether digit is 8 or not</font></b> <br/>\n",
    "<b><font color = 'Blue'>Algorithm used : Logistic Regression</font></b><br/>\n",
    "<font color = 'Blue'>Author:Rishabh Sachdeva</font>"
   ]
  },
  {
   "cell_type": "code",
   "execution_count": 1,
   "metadata": {},
   "outputs": [],
   "source": [
    "import pandas as pd\n",
    "from urllib.request import urlopen\n",
    "import numpy as np\n",
    "import math\n",
    "import matplotlib.pyplot as plt\n",
    "import seaborn as sns"
   ]
  },
  {
   "cell_type": "code",
   "execution_count": 2,
   "metadata": {},
   "outputs": [],
   "source": [
    "%matplotlib inline"
   ]
  },
  {
   "cell_type": "markdown",
   "metadata": {},
   "source": [
    "<font color = 'Blue'> Reading data from URLs</font>"
   ]
  },
  {
   "cell_type": "code",
   "execution_count": 3,
   "metadata": {},
   "outputs": [],
   "source": [
    "urlData = 'https://www.csee.umbc.edu/courses/graduate/691/fall18/data-science/mnist_data.txt'\n",
    "urlLabels= 'https://www.csee.umbc.edu/courses/graduate/691/fall18/data-science/mnist_labels.txt'\n",
    "digitFeatures=pd.read_table(urlData,header=None,sep='\\s+')\n",
    "digitLabels=pd.read_table(urlLabels,header=None)"
   ]
  },
  {
   "cell_type": "markdown",
   "metadata": {},
   "source": [
    "<font color = 'Blue'> Changing the '8' labels to 1, and others to 0. </font>"
   ]
  },
  {
   "cell_type": "code",
   "execution_count": 5,
   "metadata": {},
   "outputs": [],
   "source": [
    "digitLabels[0] = np.where(digitLabels[0]!=8, 0.0, 1.0)"
   ]
  },
  {
   "cell_type": "markdown",
   "metadata": {},
   "source": [
    "<font color = 'Blue'> Convert features and labels to numpy arrays</font>"
   ]
  },
  {
   "cell_type": "code",
   "execution_count": 7,
   "metadata": {},
   "outputs": [],
   "source": [
    "X=np.asarray(digitFeatures)\n",
    "Y = np.asarray(digitLabels)"
   ]
  },
  {
   "cell_type": "code",
   "execution_count": 8,
   "metadata": {},
   "outputs": [
    {
     "data": {
      "text/plain": [
       "array([0., 1.])"
      ]
     },
     "execution_count": 8,
     "metadata": {},
     "output_type": "execute_result"
    }
   ],
   "source": [
    "np.unique(Y)"
   ]
  },
  {
   "cell_type": "markdown",
   "metadata": {},
   "source": [
    "Normalizing X for saving computational time.\n",
    "Doing this, the pixel distribution remains the same"
   ]
  },
  {
   "cell_type": "code",
   "execution_count": 9,
   "metadata": {},
   "outputs": [],
   "source": [
    "normX=(X/255.0)"
   ]
  },
  {
   "cell_type": "code",
   "execution_count": 10,
   "metadata": {},
   "outputs": [],
   "source": [
    "#adding bias column\n",
    "normX = np.insert(normX, 0, values=1, axis=1) \n"
   ]
  },
  {
   "cell_type": "code",
   "execution_count": 11,
   "metadata": {},
   "outputs": [
    {
     "data": {
      "text/plain": [
       "(10000, 785)"
      ]
     },
     "execution_count": 11,
     "metadata": {},
     "output_type": "execute_result"
    }
   ],
   "source": [
    "normX.shape"
   ]
  },
  {
   "cell_type": "code",
   "execution_count": 12,
   "metadata": {},
   "outputs": [],
   "source": [
    "weights=np.zeros(normX.shape[1])"
   ]
  },
  {
   "cell_type": "code",
   "execution_count": 13,
   "metadata": {},
   "outputs": [],
   "source": [
    "weights=weights.reshape(1,785)"
   ]
  },
  {
   "cell_type": "markdown",
   "metadata": {},
   "source": [
    " Visualize one '8' image in the training set"
   ]
  },
  {
   "cell_type": "code",
   "execution_count": 14,
   "metadata": {},
   "outputs": [
    {
     "data": {
      "text/plain": [
       "<matplotlib.image.AxesImage at 0x2825d55c160>"
      ]
     },
     "execution_count": 14,
     "metadata": {},
     "output_type": "execute_result"
    },
    {
     "data": {
      "image/png": "[encoded data removed]",
      "text/plain": [
       "<Figure size 432x288 with 1 Axes>"
      ]
     },
     "metadata": {},
     "output_type": "display_data"
    }
   ],
   "source": [
    "plt.imshow(normX[9991][1:].reshape(28,28),cmap='binary') # not considering bias term"
   ]
  },
  {
   "cell_type": "code",
   "execution_count": 15,
   "metadata": {},
   "outputs": [],
   "source": [
    "# This function calculates cost corresponding to current weights. \n",
    "#Cost depicts how good is the weight vector (less the cost,better the weights).  \n",
    "# X is feature matrix, Y is label matrix, and weights is Theta Vetors\n",
    "#returns cost value\n",
    "def cost_Function(X,Y,weights):\n",
    "    m = len(weights)\n",
    "    totalCost=0\n",
    "    for i in range(10000):\n",
    "        xi = X[i]\n",
    "        hi = hypothesis_Function(weights,xi)\n",
    "        if Y.item(i)==1:\n",
    "            cost = (-1) * np.log(hi)\n",
    "        else:\n",
    "            cost = (-1) * np.log(1-hi)\n",
    "        totalCost = totalCost + cost ## total error for complete data\n",
    "    c = totalCost/10000\n",
    "    return c"
   ]
  },
  {
   "cell_type": "code",
   "execution_count": 16,
   "metadata": {},
   "outputs": [],
   "source": [
    "def sigmoid(z):\n",
    "    return 1.0/(1.0+np.exp(-z))"
   ]
  },
  {
   "cell_type": "code",
   "execution_count": 17,
   "metadata": {},
   "outputs": [],
   "source": [
    "def hypothesis_Function(weights,X):\n",
    "    z=np.dot(weights,X.T)\n",
    "    return sigmoid(z)"
   ]
  },
  {
   "cell_type": "code",
   "execution_count": 18,
   "metadata": {},
   "outputs": [],
   "source": [
    "# Entry point for logistic regression algorithm.\n",
    "# Takes Features, labels, initial weights, alpha and number-of-iterations in arguments.\n",
    "#Returns final weights after gradient descent is performed.\n",
    "#num-of-iterations is kept as stopping criteria\n",
    "def logisticRegression(X,Y,weights,learning_rate,num_iterations):\n",
    "    for i in range(num_iterations):\n",
    "        hypothesisPredictions=hypothesis_Function(weights,X)\n",
    "        errors = Y-hypothesisPredictions.T\n",
    "        gradient = np.dot(X.T,errors)\n",
    "        weights = weights + learning_rate*(gradient.T)\n",
    "        if i%1000 == 0:\n",
    "            cost = cost_Function(X,Y,weights)\n",
    "            print(cost,i)#should decrease gradually\n",
    "    return weights"
   ]
  },
  {
   "cell_type": "code",
   "execution_count": 19,
   "metadata": {},
   "outputs": [
    {
     "name": "stdout",
     "output_type": "stream",
     "text": [
      "[0.38842021] 0\n",
      "[0.13596197] 1000\n"
     ]
    }
   ],
   "source": [
    "final_weights=logisticRegression(normX,Y,weights,0.00001,2000)"
   ]
  },
  {
   "cell_type": "markdown",
   "metadata": {},
   "source": [
    "<b><font color = 'Blue'>The training set accuracy on the 8-vs-others classification problem</font></b>"
   ]
  },
  {
   "cell_type": "code",
   "execution_count": 20,
   "metadata": {},
   "outputs": [],
   "source": [
    "def find_accuracy(predictions,correct_labels):\n",
    "    m = len(correct_labels)\n",
    "    counter=0\n",
    "    for i in range(m):\n",
    "        if(correct_labels[i]==predictions[i]):\n",
    "           # print(predictions[i])\n",
    "            counter=counter+1\n",
    "    return (counter/m)*100.0\n",
    "    "
   ]
  },
  {
   "cell_type": "code",
   "execution_count": 24,
   "metadata": {},
   "outputs": [],
   "source": [
    "def getAccuracyForDiffNumItersNonRegularized(learning_rate,num_iters):\n",
    "    accuracySet = []\n",
    "    for num_iter in num_iters:\n",
    "        wts = logisticRegression(normX,Y,weights,learning_rate,num_iter)\n",
    "        prediction = np.round(sigmoid(np.dot(normX,wts.T)))\n",
    "        accuracy = find_accuracy(prediction,Y)\n",
    "        print(accuracy,num_iter)\n",
    "        accuracySet.append(accuracy)\n",
    "    return accuracySet"
   ]
  },
  {
   "cell_type": "code",
   "execution_count": 25,
   "metadata": {},
   "outputs": [
    {
     "data": {
      "text/plain": [
       "95.97"
      ]
     },
     "execution_count": 25,
     "metadata": {},
     "output_type": "execute_result"
    }
   ],
   "source": [
    "predictions = hypothesis_Function(final_weights,normX)\n",
    "acc = find_accuracy(np.round(predictions.T),Y)\n",
    "acc"
   ]
  },
  {
   "cell_type": "code",
   "execution_count": 26,
   "metadata": {},
   "outputs": [],
   "source": [
    "num_iters = [1000,3000,5000,10000,20000,25000]"
   ]
  },
  {
   "cell_type": "markdown",
   "metadata": {},
   "source": [
    "<b><font color = 'Blue'>finding accuracy with varying number of iterations</font></b>"
   ]
  },
  {
   "cell_type": "code",
   "execution_count": 27,
   "metadata": {},
   "outputs": [
    {
     "name": "stdout",
     "output_type": "stream",
     "text": [
      "[0.38842021] 0\n",
      "95.48 1000\n",
      "[0.38842021] 0\n",
      "[0.13596197] 1000\n",
      "[0.11986973] 2000\n",
      "96.25 3000\n",
      "[0.38842021] 0\n",
      "[0.13596197] 1000\n",
      "[0.11986973] 2000\n",
      "[0.11192968] 3000\n",
      "[0.10708434] 4000\n",
      "96.53 5000\n",
      "[0.38842021] 0\n",
      "[0.13596197] 1000\n",
      "[0.11986973] 2000\n",
      "[0.11192968] 3000\n",
      "[0.10708434] 4000\n",
      "[0.10377982] 5000\n",
      "[0.10136139] 6000\n",
      "[0.09950175] 7000\n",
      "[0.09801804] 8000\n",
      "[0.09679973] 9000\n",
      "96.67 10000\n",
      "[0.38842021] 0\n",
      "[0.13596197] 1000\n",
      "[0.11986973] 2000\n",
      "[0.11192968] 3000\n",
      "[0.10708434] 4000\n",
      "[0.10377982] 5000\n",
      "[0.10136139] 6000\n",
      "[0.09950175] 7000\n",
      "[0.09801804] 8000\n",
      "[0.09679973] 9000\n",
      "[0.09577603] 10000\n",
      "[0.0948995] 11000\n",
      "[0.09413715] 12000\n",
      "[0.09346533] 13000\n",
      "[0.09286665] 14000\n",
      "[0.09232803] 15000\n",
      "[0.09183946] 16000\n",
      "[0.0913931] 17000\n",
      "[0.09098275] 18000\n",
      "[0.09060345] 19000\n",
      "96.72 20000\n",
      "[0.38842021] 0\n",
      "[0.13596197] 1000\n",
      "[0.11986973] 2000\n",
      "[0.11192968] 3000\n",
      "[0.10708434] 4000\n",
      "[0.10377982] 5000\n",
      "[0.10136139] 6000\n",
      "[0.09950175] 7000\n",
      "[0.09801804] 8000\n",
      "[0.09679973] 9000\n",
      "[0.09577603] 10000\n",
      "[0.0948995] 11000\n",
      "[0.09413715] 12000\n",
      "[0.09346533] 13000\n",
      "[0.09286665] 14000\n",
      "[0.09232803] 15000\n",
      "[0.09183946] 16000\n",
      "[0.0913931] 17000\n",
      "[0.09098275] 18000\n",
      "[0.09060345] 19000\n",
      "[0.09025113] 20000\n",
      "[0.08992248] 21000\n",
      "[0.08961471] 22000\n",
      "[0.08932551] 23000\n",
      "[0.08905291] 24000\n",
      "96.71 25000\n"
     ]
    }
   ],
   "source": [
    "accuracy_arr = getAccuracyForDiffNumItersNonRegularized(learning_rate=0.00001,num_iters=num_iters)"
   ]
  },
  {
   "cell_type": "markdown",
   "metadata": {},
   "source": [
    "<b><font color = 'Blue'>Accuracy Vs Num-of-iterations plot for non-regualized logistic regression</font></b>"
   ]
  },
  {
   "cell_type": "code",
   "execution_count": 34,
   "metadata": {},
   "outputs": [
    {
     "data": {
      "text/plain": [
       "[<matplotlib.lines.Line2D at 0x2825dd21128>]"
      ]
     },
     "execution_count": 34,
     "metadata": {},
     "output_type": "execute_result"
    },
    {
     "data": {
      "image/png": "[encoded data removed]",
      "text/plain": [
       "<Figure size 432x288 with 1 Axes>"
      ]
     },
     "metadata": {},
     "output_type": "display_data"
    }
   ],
   "source": [
    "plt.plot(num_iters,accuracy_arr,'m')"
   ]
  },
  {
   "cell_type": "markdown",
   "metadata": {},
   "source": [
    "<b><font color = 'Blue'>28x28 weight image for non-regularized logistic regression. </font><br>\n",
    "The weight vector forms a rough 8 like figure. The more importance is given to vectors forming the boundry of 8 like figure and lesser to the other pixels. Hence, prediction or hypthosis is calculated by multiplying a bigger factor to pixels of features which are dark in color, and smaller factor to other lighter ones. </b>"
   ]
  },
  {
   "cell_type": "code",
   "execution_count": 35,
   "metadata": {},
   "outputs": [
    {
     "data": {
      "text/plain": [
       "<matplotlib.image.AxesImage at 0x2825dd756a0>"
      ]
     },
     "execution_count": 35,
     "metadata": {},
     "output_type": "execute_result"
    },
    {
     "data": {
      "image/png": "[encoded data removed]",
      "text/plain": [
       "<Figure size 432x288 with 1 Axes>"
      ]
     },
     "metadata": {},
     "output_type": "display_data"
    }
   ],
   "source": [
    "plt.imshow(final_weights[0][1:785].reshape(28,28),cmap='binary')"
   ]
  },
  {
   "cell_type": "markdown",
   "metadata": {},
   "source": [
    "Trying to check hypothsis of 9991th row in feature set, which depicts to label - 8. Ideally it should be near to 1. Our model predicts this feature vector to represent '8' by 79.7 per cent"
   ]
  },
  {
   "cell_type": "code",
   "execution_count": 39,
   "metadata": {},
   "outputs": [
    {
     "data": {
      "text/plain": [
       "array([0.79709623])"
      ]
     },
     "execution_count": 39,
     "metadata": {},
     "output_type": "execute_result"
    }
   ],
   "source": [
    "sigmoid(normX[9991].dot(final_weights.T))"
   ]
  },
  {
   "cell_type": "code",
   "execution_count": 40,
   "metadata": {},
   "outputs": [],
   "source": [
    "def logisticRegressionRegularized(X,Y,weights,learning_rate,num_iterations,reg_term):\n",
    "    for i in range(num_iterations):\n",
    "        hypothesisPredictions=hypothesis_Function(weights,X)\n",
    "        errors = Y-hypothesisPredictions.T\n",
    "        gradient = np.dot(X.T,errors) + reg_term*(weights.T) # considering derivative of regularization term: lambda*wt^2\n",
    "        weights = weights + learning_rate*(gradient.T)\n",
    "        if i%500 == 0:\n",
    "            cost = cost_Function(X,Y,weights)\n",
    "            print(cost,i)#should decrease gradually\n",
    "    return weights"
   ]
  },
  {
   "cell_type": "code",
   "execution_count": 41,
   "metadata": {},
   "outputs": [
    {
     "name": "stdout",
     "output_type": "stream",
     "text": [
      "[0.38842021] 0\n",
      "[0.15320277] 500\n"
     ]
    }
   ],
   "source": [
    "final_weights_reg=logisticRegressionRegularized(normX,Y,weights,0.00001,1000,10)"
   ]
  },
  {
   "cell_type": "markdown",
   "metadata": {},
   "source": [
    "## Accuracy for regualrized logistic regression"
   ]
  },
  {
   "cell_type": "code",
   "execution_count": 179,
   "metadata": {},
   "outputs": [
    {
     "data": {
      "text/plain": [
       "95.49"
      ]
     },
     "execution_count": 179,
     "metadata": {},
     "output_type": "execute_result"
    }
   ],
   "source": [
    "\n",
    "predictionsReg = np.round(sigmoid(np.dot(normX,final_weights_reg.T)))\n",
    "accu = find_accuracy(predictionsReg,Y)\n",
    "accu"
   ]
  },
  {
   "cell_type": "markdown",
   "metadata": {},
   "source": [
    "<b><font color = 'Blue'> 28x28 image of the learned weights, with regularized logistic regression. </font> <br>The largest weight should map to dark colored pixels, the smallest weight to lighter ones, and the other weights should linearly interpolate between those extremes.\n",
    "The weight vector forms a rough 8 like figure. Given any feature vector, the more importance is given to those boundry pixels (darker ones in below image), and less to the lighter ones. Given any feature vector, hypthosis is calculated by multiplying a bigger factor to pixels of features which are darker, and smaller factor to other lighter ones. \n",
    "</b>"
   ]
  },
  {
   "cell_type": "code",
   "execution_count": 42,
   "metadata": {},
   "outputs": [
    {
     "data": {
      "text/plain": [
       "<matplotlib.image.AxesImage at 0x2825ddd3c18>"
      ]
     },
     "execution_count": 42,
     "metadata": {},
     "output_type": "execute_result"
    },
    {
     "data": {
      "image/png": "[encoded data removed]",
      "text/plain": [
       "<Figure size 432x288 with 1 Axes>"
      ]
     },
     "metadata": {},
     "output_type": "display_data"
    }
   ],
   "source": [
    "plt.imshow(final_weights_reg[0][1:785].reshape(28,28),cmap='binary') # slicing reguired to remove biased attribute in feature vector"
   ]
  },
  {
   "cell_type": "code",
   "execution_count": 43,
   "metadata": {},
   "outputs": [],
   "source": [
    "def getAccuracyForDiffLambda(lambda_array,learning_rate,num_iters):\n",
    "    accuracySet = []\n",
    "    for reg_term in lambda_array:\n",
    "        wts = logisticRegressionRegularized(normX,Y,weights,learning_rate,num_iters,reg_term)\n",
    "        prediction_reg = np.round(sigmoid(np.dot(normX,wts.T)))\n",
    "        accuracy = find_accuracy(prediction_reg,Y)\n",
    "        print(accuracy,reg_term)\n",
    "        accuracySet.append(accuracy)\n",
    "    return accuracySet"
   ]
  },
  {
   "cell_type": "code",
   "execution_count": 47,
   "metadata": {},
   "outputs": [
    {
     "name": "stdout",
     "output_type": "stream",
     "text": [
      "[0.38842021] 0\n",
      "[0.15426664] 500\n",
      "[0.13594329] 1000\n",
      "[0.12619166] 1500\n",
      "[0.11983693] 2000\n",
      "[0.11530484] 2500\n",
      "96.25 0.1\n",
      "[0.38842021] 0\n",
      "[0.1537379] 500\n",
      "[0.13503419] 1000\n",
      "[0.12492371] 1500\n",
      "[0.11824909] 2000\n",
      "[0.11343827] 2500\n",
      "96.3 5\n",
      "[0.38842021] 0\n",
      "[0.15320277] 500\n",
      "[0.13412126] 1000\n",
      "[0.12365888] 1500\n",
      "[0.11667987] 2000\n",
      "[0.11161857] 2500\n",
      "96.34 10\n",
      "[0.38842021] 0\n",
      "[0.1448893] 500\n",
      "[0.12514833] 1000\n",
      "[0.12380992] 1500\n",
      "[0.14313503] 2000\n",
      "[0.19096926] 2500\n",
      "96.2 100\n",
      "[0.38842021] 0\n",
      "[0.26685601] 500\n"
     ]
    },
    {
     "name": "stderr",
     "output_type": "stream",
     "text": [
      "C:\\Users\\Rishabh\\Anaconda3\\lib\\site-packages\\ipykernel_launcher.py:14: RuntimeWarning: divide by zero encountered in log\n",
      "  \n"
     ]
    },
    {
     "name": "stdout",
     "output_type": "stream",
     "text": [
      "[inf] 1000\n"
     ]
    },
    {
     "name": "stderr",
     "output_type": "stream",
     "text": [
      "C:\\Users\\Rishabh\\Anaconda3\\lib\\site-packages\\ipykernel_launcher.py:12: RuntimeWarning: divide by zero encountered in log\n",
      "  if sys.path[0] == '':\n"
     ]
    },
    {
     "name": "stdout",
     "output_type": "stream",
     "text": [
      "[inf] 1500\n",
      "[inf] 2000\n",
      "[inf] 2500\n",
      "94.75 500\n",
      "[0.38842021] 0\n",
      "[inf] 500\n",
      "[inf] 1000\n",
      "[inf] 1500\n",
      "[inf] 2000\n",
      "[inf] 2500\n",
      "94.03 1000\n"
     ]
    }
   ],
   "source": [
    "lambda_array = [0.1,5,10,100,500,1000]\n",
    "accuracy_array_reg=getAccuracyForDiffLambda(lambda_array,learning_rate=0.00001,num_iters=3000)"
   ]
  },
  {
   "cell_type": "markdown",
   "metadata": {},
   "source": [
    "<b><font color='Blue'>The curve of training set accuracy as a function of lambda.</font> <br>\n",
    " When lambda value is very low, there is a risk of overfitting. Hence, the generated model will perform poorly with unseen data.\n",
    "If the lambda value is very high, there is a risk of underfitting. So, model is not able to learn much about the training data.\n",
    "    \n",
    "When lambda value is increased, more emphasis is given to small weights.    \n",
    "In the plot drawn below, when lambda increases significatly, it performs poorly on training data. Hence, this is the scenario of underfitting. So, model is not aware about peculiarities of training data, and gives poor accuracy.\n",
    "The Ideal Value of lambda depends on data, so some tuning is required to get the correct balance between generalization and training data.\n",
    "</b>"
   ]
  },
  {
   "cell_type": "code",
   "execution_count": 48,
   "metadata": {},
   "outputs": [
    {
     "data": {
      "text/plain": [
       "[<matplotlib.lines.Line2D at 0x2825de3c2b0>]"
      ]
     },
     "execution_count": 48,
     "metadata": {},
     "output_type": "execute_result"
    },
    {
     "data": {
      "image/png": "[encoded data removed]",
      "text/plain": [
       "<Figure size 432x288 with 1 Axes>"
      ]
     },
     "metadata": {},
     "output_type": "display_data"
    }
   ],
   "source": [
    "plt.plot(lambda_array,accuracy_array_reg,'m')"
   ]
  },
  {
   "cell_type": "code",
   "execution_count": 588,
   "metadata": {},
   "outputs": [],
   "source": [
    "def getAccuracyForDiffNumIters(reg_term,learning_rate,num_iters):\n",
    "    accuracySet = []\n",
    "    for num_iter in num_iters:\n",
    "        wts = logisticRegressionRegularized(binaryX,Y,weights,learning_rate,num_iter,reg_term)\n",
    "        prediction_reg = np.round(sigmoid(np.dot(binaryX,wts.T)))\n",
    "        accuracy = find_accuracy(prediction_reg,Y)\n",
    "        print(accuracy,num_iter)\n",
    "        accuracySet.append(accuracy)\n",
    "    return accuracySet"
   ]
  },
  {
   "cell_type": "code",
   "execution_count": 592,
   "metadata": {},
   "outputs": [
    {
     "name": "stdout",
     "output_type": "stream",
     "text": [
      "92.75999999999999 1000\n",
      "93.49 3000\n",
      "93.84 5000\n",
      "94.08999999999999 10000\n",
      "94.25 20000\n",
      "94.28999999999999 25000\n"
     ]
    }
   ],
   "source": [
    "accuracy_array_iters=getAccuracyForDiffNumIters(0.1,learning_rate=0.000001,num_iters=num_iters)"
   ]
  },
  {
   "cell_type": "markdown",
   "metadata": {},
   "source": [
    "<b><font color='Blue'> Accuracy VS Num-of-Iterations for regularized Logistic Regression </font></b>"
   ]
  },
  {
   "cell_type": "code",
   "execution_count": 593,
   "metadata": {},
   "outputs": [
    {
     "data": {
      "text/plain": [
       "[<matplotlib.lines.Line2D at 0x2109b507c50>]"
      ]
     },
     "execution_count": 593,
     "metadata": {},
     "output_type": "execute_result"
    },
    {
     "data": {
      "image/png": "[encoded data removed]",
      "text/plain": [
       "<Figure size 432x288 with 1 Axes>"
      ]
     },
     "metadata": {},
     "output_type": "display_data"
    }
   ],
   "source": [
    "plt.plot(num_iters,accuracy_array_iters)"
   ]
  }
 ],
 "metadata": {
  "kernelspec": {
   "display_name": "Python 3",
   "language": "python",
   "name": "python3"
  },
  "language_info": {
   "codemirror_mode": {
    "name": "ipython",
    "version": 3
   },
   "file_extension": ".py",
   "mimetype": "text/x-python",
   "name": "python",
   "nbconvert_exporter": "python",
   "pygments_lexer": "ipython3",
   "version": "3.6.5"
  }
 },
 "nbformat": 4,
 "nbformat_minor": 2
}
